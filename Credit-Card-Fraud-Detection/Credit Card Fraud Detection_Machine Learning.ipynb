{
 "cells": [
  {
   "cell_type": "markdown",
   "id": "5fe49ff2",
   "metadata": {},
   "source": [
    "# **Project Description: Credit Card Fraud Detection 💳**\n",
    "This project develops a machine learning model to accurately identify fraudulent credit card transactions. Utilizing a publicly available [dataset from Kaggle](https://www.kaggle.com/datasets/mlg-ulb/creditcardfraud), the solution addresses a core challenge in fraud detection: the severe class imbalance. The dataset contains 284,807 transactions, with only 492 of these being fraudulent (0.172%).\n",
    "\n",
    "The primary goal of this project is to build a robust classification model that can effectively learn from this imbalanced data and achieve high performance in detecting fraudulent activity. Key aspects of the project include:\n",
    "\n",
    "- **Data Handling and Analysis:** The dataset's features have been anonymized using Principal Component Analysis (PCA) for confidentiality, with only ````Time```` and ````Amount```` remaining as original features. The project begins with an **Exploratory Data Analysis (EDA)** to understand the distributions of ````Time```` and ````Amount```` and their relationships with the transaction class.\n",
    "\n",
    "- **Addressing Class Imbalance:** To prevent the model from simply predicting the majority class (non-fraudulent transactions), the **Synthetic Minority Over-sampling Technique (SMOTE)** is employed. SMOTE generates synthetic samples for the minority (fraudulent) class, effectively balancing the dataset for training.\n",
    "\n",
    "- **Model Development and Evaluation:** After preprocessing and balancing the data, several classification models, including **Random Forest** and **Decision Trees**, are trained and compared.\n",
    "\n",
    "- **Demonstration of Best Practices:** This project serves as a comprehensive example of how to approach a real-world data science problem with imbalanced data, demonstrating best practices in data preprocessing, model selection, and evaluation for a critical application in financial security.\n",
    "\n",
    "The result is a highly effective model capable of distinguishing between fraudulent and legitimate transactions, even when the fraudulent transactions are extremely rare."
   ]
  },
  {
   "cell_type": "code",
   "execution_count": 1,
   "id": "28ffc29f",
   "metadata": {},
   "outputs": [],
   "source": [
    "# Import Libraries\n",
    "\n",
    "import pandas as pd\n",
    "import numpy as np\n",
    "import matplotlib.pyplot as plt\n",
    "from collections import Counter\n",
    "import itertools\n",
    "import seaborn as sns\n",
    "\n",
    "from sklearn.preprocessing import StandardScaler\n",
    "from sklearn.model_selection import train_test_split\n",
    "from sklearn.ensemble import RandomForestClassifier\n",
    "from sklearn.tree import DecisionTreeClassifier\n",
    "from sklearn.metrics import accuracy_score, precision_score, confusion_matrix, recall_score, f1_score\n",
    "from sklearn.metrics import ConfusionMatrixDisplay\n",
    "\n",
    "from imblearn.over_sampling import SMOTE # type: ignore\n"
   ]
  },
  {
   "cell_type": "code",
   "execution_count": 2,
   "id": "864cdc4e",
   "metadata": {},
   "outputs": [
    {
     "name": "stdout",
     "output_type": "stream",
     "text": [
      "Successfully read the file.\n",
      "(284807, 31)\n"
     ]
    },
    {
     "data": {
      "text/html": [
       "<div>\n",
       "<style scoped>\n",
       "    .dataframe tbody tr th:only-of-type {\n",
       "        vertical-align: middle;\n",
       "    }\n",
       "\n",
       "    .dataframe tbody tr th {\n",
       "        vertical-align: top;\n",
       "    }\n",
       "\n",
       "    .dataframe thead th {\n",
       "        text-align: right;\n",
       "    }\n",
       "</style>\n",
       "<table border=\"1\" class=\"dataframe\">\n",
       "  <thead>\n",
       "    <tr style=\"text-align: right;\">\n",
       "      <th></th>\n",
       "      <th>Time</th>\n",
       "      <th>V1</th>\n",
       "      <th>V2</th>\n",
       "      <th>V3</th>\n",
       "      <th>V4</th>\n",
       "      <th>V5</th>\n",
       "      <th>V6</th>\n",
       "      <th>V7</th>\n",
       "      <th>V8</th>\n",
       "      <th>V9</th>\n",
       "      <th>...</th>\n",
       "      <th>V21</th>\n",
       "      <th>V22</th>\n",
       "      <th>V23</th>\n",
       "      <th>V24</th>\n",
       "      <th>V25</th>\n",
       "      <th>V26</th>\n",
       "      <th>V27</th>\n",
       "      <th>V28</th>\n",
       "      <th>Amount</th>\n",
       "      <th>Class</th>\n",
       "    </tr>\n",
       "  </thead>\n",
       "  <tbody>\n",
       "    <tr>\n",
       "      <th>0</th>\n",
       "      <td>0.0</td>\n",
       "      <td>-1.359807</td>\n",
       "      <td>-0.072781</td>\n",
       "      <td>2.536347</td>\n",
       "      <td>1.378155</td>\n",
       "      <td>-0.338321</td>\n",
       "      <td>0.462388</td>\n",
       "      <td>0.239599</td>\n",
       "      <td>0.098698</td>\n",
       "      <td>0.363787</td>\n",
       "      <td>...</td>\n",
       "      <td>-0.018307</td>\n",
       "      <td>0.277838</td>\n",
       "      <td>-0.110474</td>\n",
       "      <td>0.066928</td>\n",
       "      <td>0.128539</td>\n",
       "      <td>-0.189115</td>\n",
       "      <td>0.133558</td>\n",
       "      <td>-0.021053</td>\n",
       "      <td>149.62</td>\n",
       "      <td>0</td>\n",
       "    </tr>\n",
       "    <tr>\n",
       "      <th>1</th>\n",
       "      <td>0.0</td>\n",
       "      <td>1.191857</td>\n",
       "      <td>0.266151</td>\n",
       "      <td>0.166480</td>\n",
       "      <td>0.448154</td>\n",
       "      <td>0.060018</td>\n",
       "      <td>-0.082361</td>\n",
       "      <td>-0.078803</td>\n",
       "      <td>0.085102</td>\n",
       "      <td>-0.255425</td>\n",
       "      <td>...</td>\n",
       "      <td>-0.225775</td>\n",
       "      <td>-0.638672</td>\n",
       "      <td>0.101288</td>\n",
       "      <td>-0.339846</td>\n",
       "      <td>0.167170</td>\n",
       "      <td>0.125895</td>\n",
       "      <td>-0.008983</td>\n",
       "      <td>0.014724</td>\n",
       "      <td>2.69</td>\n",
       "      <td>0</td>\n",
       "    </tr>\n",
       "    <tr>\n",
       "      <th>2</th>\n",
       "      <td>1.0</td>\n",
       "      <td>-1.358354</td>\n",
       "      <td>-1.340163</td>\n",
       "      <td>1.773209</td>\n",
       "      <td>0.379780</td>\n",
       "      <td>-0.503198</td>\n",
       "      <td>1.800499</td>\n",
       "      <td>0.791461</td>\n",
       "      <td>0.247676</td>\n",
       "      <td>-1.514654</td>\n",
       "      <td>...</td>\n",
       "      <td>0.247998</td>\n",
       "      <td>0.771679</td>\n",
       "      <td>0.909412</td>\n",
       "      <td>-0.689281</td>\n",
       "      <td>-0.327642</td>\n",
       "      <td>-0.139097</td>\n",
       "      <td>-0.055353</td>\n",
       "      <td>-0.059752</td>\n",
       "      <td>378.66</td>\n",
       "      <td>0</td>\n",
       "    </tr>\n",
       "    <tr>\n",
       "      <th>3</th>\n",
       "      <td>1.0</td>\n",
       "      <td>-0.966272</td>\n",
       "      <td>-0.185226</td>\n",
       "      <td>1.792993</td>\n",
       "      <td>-0.863291</td>\n",
       "      <td>-0.010309</td>\n",
       "      <td>1.247203</td>\n",
       "      <td>0.237609</td>\n",
       "      <td>0.377436</td>\n",
       "      <td>-1.387024</td>\n",
       "      <td>...</td>\n",
       "      <td>-0.108300</td>\n",
       "      <td>0.005274</td>\n",
       "      <td>-0.190321</td>\n",
       "      <td>-1.175575</td>\n",
       "      <td>0.647376</td>\n",
       "      <td>-0.221929</td>\n",
       "      <td>0.062723</td>\n",
       "      <td>0.061458</td>\n",
       "      <td>123.50</td>\n",
       "      <td>0</td>\n",
       "    </tr>\n",
       "    <tr>\n",
       "      <th>4</th>\n",
       "      <td>2.0</td>\n",
       "      <td>-1.158233</td>\n",
       "      <td>0.877737</td>\n",
       "      <td>1.548718</td>\n",
       "      <td>0.403034</td>\n",
       "      <td>-0.407193</td>\n",
       "      <td>0.095921</td>\n",
       "      <td>0.592941</td>\n",
       "      <td>-0.270533</td>\n",
       "      <td>0.817739</td>\n",
       "      <td>...</td>\n",
       "      <td>-0.009431</td>\n",
       "      <td>0.798278</td>\n",
       "      <td>-0.137458</td>\n",
       "      <td>0.141267</td>\n",
       "      <td>-0.206010</td>\n",
       "      <td>0.502292</td>\n",
       "      <td>0.219422</td>\n",
       "      <td>0.215153</td>\n",
       "      <td>69.99</td>\n",
       "      <td>0</td>\n",
       "    </tr>\n",
       "  </tbody>\n",
       "</table>\n",
       "<p>5 rows × 31 columns</p>\n",
       "</div>"
      ],
      "text/plain": [
       "   Time        V1        V2        V3        V4        V5        V6        V7  \\\n",
       "0   0.0 -1.359807 -0.072781  2.536347  1.378155 -0.338321  0.462388  0.239599   \n",
       "1   0.0  1.191857  0.266151  0.166480  0.448154  0.060018 -0.082361 -0.078803   \n",
       "2   1.0 -1.358354 -1.340163  1.773209  0.379780 -0.503198  1.800499  0.791461   \n",
       "3   1.0 -0.966272 -0.185226  1.792993 -0.863291 -0.010309  1.247203  0.237609   \n",
       "4   2.0 -1.158233  0.877737  1.548718  0.403034 -0.407193  0.095921  0.592941   \n",
       "\n",
       "         V8        V9  ...       V21       V22       V23       V24       V25  \\\n",
       "0  0.098698  0.363787  ... -0.018307  0.277838 -0.110474  0.066928  0.128539   \n",
       "1  0.085102 -0.255425  ... -0.225775 -0.638672  0.101288 -0.339846  0.167170   \n",
       "2  0.247676 -1.514654  ...  0.247998  0.771679  0.909412 -0.689281 -0.327642   \n",
       "3  0.377436 -1.387024  ... -0.108300  0.005274 -0.190321 -1.175575  0.647376   \n",
       "4 -0.270533  0.817739  ... -0.009431  0.798278 -0.137458  0.141267 -0.206010   \n",
       "\n",
       "        V26       V27       V28  Amount  Class  \n",
       "0 -0.189115  0.133558 -0.021053  149.62      0  \n",
       "1  0.125895 -0.008983  0.014724    2.69      0  \n",
       "2 -0.139097 -0.055353 -0.059752  378.66      0  \n",
       "3 -0.221929  0.062723  0.061458  123.50      0  \n",
       "4  0.502292  0.219422  0.215153   69.99      0  \n",
       "\n",
       "[5 rows x 31 columns]"
      ]
     },
     "execution_count": 2,
     "metadata": {},
     "output_type": "execute_result"
    }
   ],
   "source": [
    "# Load csv file\n",
    "\n",
    "try:\n",
    "    # Use the full file path directly\n",
    "    df = pd.read_csv(r\"C:\\Users\\Emercado\\Documents\\CreditCardProject\\creditcard.csv\")\n",
    "    print(\"Successfully read the file.\")\n",
    "except FileNotFoundError:\n",
    "    print(\"Error: The specified file was not found.\")\n",
    "except Exception as e:\n",
    "    # This captures any other errors, such as a corrupt file or wrong format\n",
    "    print(f\"An error occurred while reading the file: {e}\")\n",
    "\n",
    "# Print shape and first 5 rows of data and headers.\n",
    "\n",
    "print(df.shape)\n",
    "df.head(n=5)\n",
    "\n"
   ]
  },
  {
   "cell_type": "code",
   "execution_count": 3,
   "id": "172a7c7f",
   "metadata": {},
   "outputs": [
    {
     "data": {
      "text/plain": [
       "np.False_"
      ]
     },
     "execution_count": 3,
     "metadata": {},
     "output_type": "execute_result"
    }
   ],
   "source": [
    "#Check for null values\n",
    "\n",
    "df.isna().values.any()"
   ]
  },
  {
   "cell_type": "code",
   "execution_count": 4,
   "id": "e7f6e2bf",
   "metadata": {},
   "outputs": [
    {
     "data": {
      "text/plain": [
       "count    284807.000000\n",
       "mean         88.349619\n",
       "std         250.120109\n",
       "min           0.000000\n",
       "25%           5.600000\n",
       "50%          22.000000\n",
       "75%          77.165000\n",
       "max       25691.160000\n",
       "Name: Amount, dtype: float64"
      ]
     },
     "execution_count": 4,
     "metadata": {},
     "output_type": "execute_result"
    }
   ],
   "source": [
    "# Column of the dataset we are most interested in is the \"Amount\" Column.\n",
    "\n",
    "df['Amount'].describe()"
   ]
  },
  {
   "cell_type": "code",
   "execution_count": 5,
   "id": "a30351db",
   "metadata": {},
   "outputs": [
    {
     "name": "stdout",
     "output_type": "stream",
     "text": [
      "Number of Genuine transactions: 284315\n",
      "Number of Fraud transactions: 492\n",
      "Percentage of Fraud transactions: 0.1727\n"
     ]
    },
    {
     "data": {
      "image/png": "[encoded data removed]",
      "text/plain": [
       "<Figure size 640x480 with 1 Axes>"
      ]
     },
     "metadata": {},
     "output_type": "display_data"
    }
   ],
   "source": [
    "# Now, let’s check the number of occurrences of each class label and plot the information using matplotlib.\n",
    "\n",
    "non_fraud = len(df[df.Class == 0])\n",
    "fraud = len(df[df.Class == 1])\n",
    "fraud_percent = (fraud / (fraud + non_fraud)) * 100\n",
    "\n",
    "print(f'Number of Genuine transactions: {non_fraud}')\n",
    "print(f'Number of Fraud transactions: {fraud}')\n",
    "print(f'Percentage of Fraud transactions: {fraud_percent:.4f}')\n",
    "\n",
    "# Let’s plot the above information using matplotlib.\n",
    "\n",
    "labels = [\"Genuine\", \"Fraud\"]\n",
    "count_classes = df.value_counts(df['Class'], sort = True)\n",
    "count_classes.plot(kind = \"bar\", rot = 0)\n",
    "plt.title(\"Visualization of Labels\")\n",
    "plt.ylabel(\"Count\")\n",
    "plt.xlabel(\"Classes\")\n",
    "plt.xticks(range(2), labels)\n",
    "plt.show()"
   ]
  },
  {
   "cell_type": "markdown",
   "id": "c17d9e62",
   "metadata": {},
   "source": [
    "We can observe that the genuine transactions are over 99%! This is not good.\n",
    "\n",
    "Let’s apply scaling techniques on the “Amount” feature to transform the range of values. We drop the original “Amount” column and add a new column with the scaled values. We also drop the “Time” column as it is irrelevant."
   ]
  },
  {
   "cell_type": "code",
   "execution_count": 6,
   "id": "53362da9",
   "metadata": {},
   "outputs": [],
   "source": [
    "scaler = StandardScaler()\n",
    "\n",
    "df['NormalizedAmount'] = scaler.fit_transform(df['Amount'].values.reshape(-1, 1))\n",
    "df.drop(['Amount', 'Time'], inplace = True, axis = 1)\n",
    "\n",
    "Y = df['Class']\n",
    "X = df.drop(['Class'], axis =1)"
   ]
  },
  {
   "cell_type": "markdown",
   "id": "0a4a0d4b",
   "metadata": {},
   "source": [
    "Time to split credit card data with a split of 70-30 using train_test_split()."
   ]
  },
  {
   "cell_type": "code",
   "execution_count": 7,
   "id": "779891a8",
   "metadata": {},
   "outputs": [
    {
     "name": "stdout",
     "output_type": "stream",
     "text": [
      "Shape of train_X: (199364, 29)\n",
      "Shape of test_X: (85443, 29)\n"
     ]
    }
   ],
   "source": [
    "#Splitting data for test and train\n",
    "\n",
    "(train_X, test_X, train_Y, test_Y) = train_test_split(X,Y, test_size=0.3, random_state=42)\n",
    "\n",
    "print(f\"Shape of train_X: {train_X.shape}\")\n",
    "print(f\"Shape of test_X: {test_X.shape}\")"
   ]
  },
  {
   "cell_type": "markdown",
   "id": "e0dd9e71",
   "metadata": {},
   "source": [
    "Step 2: Apply Machine Learning Algorithms to Credit Card Dataset\n",
    "Let’s train different models on our dataset and observe which algorithm works better for our problem. This is actually a binary classification problem as we have to predict only 1 of the 2 class labels. We can apply a variety of algorithms for this problem like Random Forest, Decision Tree, Support Vector Machine algorithms, etc.\n",
    "\n",
    "In this machine learning project, we build Random Forest and Decision Tree classifiers and see which one works best. We address the “class imbalance” problem by picking the best-performed model.\n",
    "\n",
    "But before we go into the code, let’s understand what random forests and decision trees are.\n",
    "\n",
    "The Decision Tree algorithm is a supervised machine learning algorithm used for classification and regression tasks. The algorithm’s aim is to build a training model that predicts the value of a target class variable by learning simple if-then-else decision rules inferred from the training data."
   ]
  },
  {
   "cell_type": "markdown",
   "id": "6885efd9",
   "metadata": {},
   "source": [
    "Let’s build the Random Forest and Decision Tree Classifiers. They are present in the sklearn package in the form of RandomForestClassifier() and DecisionTreeClassifier() respectively."
   ]
  },
  {
   "cell_type": "markdown",
   "id": "d4303768",
   "metadata": {},
   "source": [
    "Step 3: Train and Evaluate our Models on the Dataset\n",
    "Now, Let’s train and evaluate the newly created models on the dataset and pick the best one.\n",
    "\n",
    "Train the decision tree and random forest models on the dataset using the fit() function. Record the predictions made by the models using the predict() function and evaluate.\n",
    "\n",
    "Let’s visualize the scores of each of our credit card fraud classifiers."
   ]
  },
  {
   "cell_type": "code",
   "execution_count": 8,
   "id": "7b7267c6",
   "metadata": {},
   "outputs": [
    {
     "name": "stdout",
     "output_type": "stream",
     "text": [
      "Random Forest Score: 99.96722961506501\n",
      "Decision Tree Score: 99.9098814414288\n"
     ]
    }
   ],
   "source": [
    "#Decision Tree Classifier\n",
    "decision_tree = DecisionTreeClassifier()\n",
    "decision_tree.fit(train_X, train_Y)\n",
    "\n",
    "predictions_dt = decision_tree.predict(test_X)\n",
    "decision_tree_score = decision_tree.score(test_X, test_Y) * 100\n",
    "\n",
    "#Random Forest\n",
    "random_forest = RandomForestClassifier(n_estimators = 100)\n",
    "random_forest.fit(train_X, train_Y)\n",
    "\n",
    "predictions_rf = random_forest.predict(test_X)\n",
    "random_forest_score = random_forest.score(test_X, test_Y) * 100\n",
    "\n",
    "#Print scores of our classifiers\n",
    "\n",
    "print(f\"Random Forest Score: {random_forest_score}\")\n",
    "print(f'Decision Tree Score: {decision_tree_score}')"
   ]
  },
  {
   "cell_type": "markdown",
   "id": "58d4a05f",
   "metadata": {},
   "source": [
    "The Random Forest classifier has slightly an edge over the Decision Tree classifier.\n",
    "\n",
    "Let’s create a function to print the metrics: accuracy, precision, recall, and f1-score."
   ]
  },
  {
   "cell_type": "code",
   "execution_count": 9,
   "id": "bb4120e8",
   "metadata": {},
   "outputs": [],
   "source": [
    "def metrics(actuals, predictions):\n",
    "    print(f\"Accuracy: {accuracy_score(actuals, predictions):.5}\")\n",
    "    print(f\"Precision: {precision_score(actuals, predictions):.5}\")\n",
    "    print(f\"Recall: {recall_score(actuals, predictions):.5}\")\n",
    "    print(f\"F1-score: {f1_score(actuals, predictions):.5}\")"
   ]
  },
  {
   "cell_type": "code",
   "execution_count": 10,
   "id": "dca06ea1",
   "metadata": {},
   "outputs": [
    {
     "name": "stdout",
     "output_type": "stream",
     "text": [
      "Confusion Matrix - Decision Tree\n",
      "[[85260    47]\n",
      " [   30   106]]\n"
     ]
    }
   ],
   "source": [
    "#Let’s visualize the confusion matrix and the evaluation metrics of our Decision Tree model.\n",
    "\n",
    "confusion_matrix_dt = confusion_matrix(test_Y, predictions_dt.round())\n",
    "\n",
    "print(\"Confusion Matrix - Decision Tree\")\n",
    "print(confusion_matrix_dt)\n"
   ]
  },
  {
   "cell_type": "code",
   "execution_count": 11,
   "id": "e263dd38",
   "metadata": {},
   "outputs": [
    {
     "data": {
      "image/png": "[encoded data removed]",
      "text/plain": [
       "<Figure size 640x480 with 2 Axes>"
      ]
     },
     "metadata": {},
     "output_type": "display_data"
    }
   ],
   "source": [
    "# Display confusion Matrix, without normalization.\n",
    "\n",
    "disp = ConfusionMatrixDisplay.from_estimator(\n",
    "    decision_tree,\n",
    "    test_X,\n",
    "    test_Y,\n",
    "    display_labels=[0, 1],\n",
    "    cmap=plt.cm.Blues\n",
    ")\n",
    "disp.ax_.set_title(\"Confusion Matrix - Decision Tree\")\n",
    "plt.show()"
   ]
  },
  {
   "cell_type": "code",
   "execution_count": 12,
   "id": "97d9e045",
   "metadata": {},
   "outputs": [
    {
     "name": "stdout",
     "output_type": "stream",
     "text": [
      "Evaluation of Random Forest Model\n",
      "\n",
      "Accuracy: 0.99967\n",
      "Precision: 0.95763\n",
      "Recall: 0.83088\n",
      "F1-score: 0.88976\n"
     ]
    }
   ],
   "source": [
    "print(\"Evaluation of Random Forest Model\")\n",
    "print()\n",
    "metrics(test_Y, predictions_rf.round())\n"
   ]
  },
  {
   "cell_type": "markdown",
   "id": "33612035",
   "metadata": {},
   "source": [
    "Address the Class-Imbalance issue\n",
    "The Random Forest model works better than Decision Trees. But, if we observe our dataset suffers a serious problem of class imbalance. The genuine (not fraud) transactions are more than 99% with the credit card fraud transactions constituting 0.17%.\n",
    "\n",
    "With such a distribution, if we train our model without taking care of the imbalance issues, it predicts the label with higher importance given to genuine transactions (as there is more data about them) and hence obtains more accuracy.\n",
    "\n",
    "The class imbalance problem can be solved by various techniques. Oversampling is one of them.\n",
    "\n",
    "Oversample the minority class is one of the approaches to address the imbalanced datasets. The easiest solution entails doubling examples in the minority class, even though these examples contribute no new data to the model.\n",
    "\n",
    "Instead, new examples may be generated by replicating existing ones. The Synthetic Minority Oversampling Technique, or SMOTE for short, is a method of data augmentation for the minority class.\n",
    "\n",
    "The above SMOTE is present in the imblearn package. Let’s import that and resample our data.\n",
    "\n",
    "In the following code below, we resampled our data and we split it using train_test_split() with a split of 70-30."
   ]
  },
  {
   "cell_type": "code",
   "execution_count": 13,
   "id": "6e21efcf",
   "metadata": {},
   "outputs": [
    {
     "name": "stdout",
     "output_type": "stream",
     "text": [
      "Resampled shape of X:  (568630, 29)\n",
      "Resampled shape of Y:  (568630,)\n",
      "Counter({0: 284315, 1: 284315})\n"
     ]
    }
   ],
   "source": [
    "X_resampled, Y_resampled = SMOTE().fit_resample(X, Y)\n",
    "\n",
    "print(\"Resampled shape of X: \", X_resampled.shape)\n",
    "print(\"Resampled shape of Y: \", Y_resampled.shape)\n",
    "\n",
    "value_counts = Counter(Y_resampled)\n",
    "print(value_counts)\n",
    "\n",
    "(train_X, test_X, train_Y, test_Y) = train_test_split(X_resampled, Y_resampled, test_size = 0.3, random_state=42)"
   ]
  },
  {
   "cell_type": "code",
   "execution_count": 14,
   "id": "e7192648",
   "metadata": {},
   "outputs": [
    {
     "name": "stdout",
     "output_type": "stream",
     "text": [
      "Distribution of the Classes in the subsample dataset\n",
      "\n",
      "\n"
     ]
    }
   ],
   "source": [
    "print('Distribution of the Classes in the subsample dataset\\n')\n",
    "\n",
    "print()"
   ]
  },
  {
   "cell_type": "markdown",
   "id": "a08410cd",
   "metadata": {},
   "source": [
    "As the Random Forest algorithm performed better than the Decision Tree algorithm, we will apply the Random Forest algorithm to our resampled data."
   ]
  },
  {
   "cell_type": "code",
   "execution_count": 15,
   "id": "d6f27698",
   "metadata": {},
   "outputs": [],
   "source": [
    "rf_resampled = RandomForestClassifier(n_estimators= 100)\n",
    "rf_resampled.fit(train_X, train_Y)\n",
    "\n",
    "predictions_resampled = rf_resampled.predict(test_X)\n",
    "random_forest_score_resampled = rf_resampled.score(test_X, test_Y) * 100"
   ]
  },
  {
   "cell_type": "markdown",
   "id": "94b9417e",
   "metadata": {},
   "source": [
    "Let’s visualize the predictions of our model and plot the confusion matrix."
   ]
  },
  {
   "cell_type": "code",
   "execution_count": 16,
   "id": "40fd0891",
   "metadata": {},
   "outputs": [
    {
     "name": "stdout",
     "output_type": "stream",
     "text": [
      "Confusion Matrix - Random Forest\n",
      "[[85131    18]\n",
      " [    0 85440]]\n"
     ]
    }
   ],
   "source": [
    "cm_resampled = confusion_matrix(test_Y, predictions_resampled.round())\n",
    "\n",
    "print(\"Confusion Matrix - Random Forest\")\n",
    "print(cm_resampled)\n"
   ]
  },
  {
   "cell_type": "code",
   "execution_count": 17,
   "id": "e888928a",
   "metadata": {},
   "outputs": [
    {
     "data": {
      "image/png": "[encoded data removed]",
      "text/plain": [
       "<Figure size 640x480 with 2 Axes>"
      ]
     },
     "metadata": {},
     "output_type": "display_data"
    }
   ],
   "source": [
    "# Display confusion Matrix after normalization\n",
    "\n",
    "disp = ConfusionMatrixDisplay.from_predictions(\n",
    "    test_Y,\n",
    "    predictions_resampled.round(),\n",
    "    display_labels=[0, 1],\n",
    "    cmap=plt.cm.Blues\n",
    ")\n",
    "\n",
    "disp.ax_.set_title(\"Confusion Matrix - Random Forest After Oversampling\")\n",
    "plt.show()"
   ]
  },
  {
   "cell_type": "code",
   "execution_count": 18,
   "id": "312f7c07",
   "metadata": {},
   "outputs": [
    {
     "name": "stdout",
     "output_type": "stream",
     "text": [
      "Evaluation of the Random Forest Model\n",
      "\n",
      "Accuracy: 0.99989\n",
      "Precision: 0.99979\n",
      "Recall: 1.0\n",
      "F1-score: 0.99989\n"
     ]
    }
   ],
   "source": [
    "print(\"Evaluation of the Random Forest Model\\n\")\n",
    "metrics(test_Y, predictions_resampled.round())"
   ]
  },
  {
   "cell_type": "markdown",
   "id": "0d054e6b",
   "metadata": {},
   "source": [
    "Now, it is clearly evident that our model performed much better than our previous Random Forest classifier without oversampling.\n",
    "\n",
    "Summary\n",
    "Credit card fraud happens when someone uses your card without permission. This project helps stop such fraud by checking transaction data and finding odd patterns. Using Python and machine learning, we can build a system that reads card data and tells if the transaction is safe or fraud. It is a binary classification problem using real-world datasets.\n",
    "\n",
    "In this python machine learning project, we built a binary classifier using the Random Forest algorithm to detect credit card fraud transactions. Through this project, we understood and applied techniques to address the class imbalance issues and achieved an accuracy of more than 99%"
   ]
  }
 ],
 "metadata": {
  "kernelspec": {
   "display_name": "Python 3",
   "language": "python",
   "name": "python3"
  },
  "language_info": {
   "codemirror_mode": {
    "name": "ipython",
    "version": 3
   },
   "file_extension": ".py",
   "mimetype": "text/x-python",
   "name": "python",
   "nbconvert_exporter": "python",
   "pygments_lexer": "ipython3",
   "version": "3.12.10"
  }
 },
 "nbformat": 4,
 "nbformat_minor": 5
}
