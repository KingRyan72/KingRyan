{
 "cells": [
  {
   "cell_type": "markdown",
   "id": "eae5b308",
   "metadata": {},
   "source": [
    "# **Exemplar: Hypothesis Testing with Python**\n",
    "\n",
    "## **Introduction**\n",
    "\n",
    "In this project, I focused on applying **Analysis of Variance (ANOVA)**, a critical set of statistical techniques that help determine if there are significant differences in the means across three or more groups. This is a very powerful tool, allowing me to confidently assess whether population means vary across different categories and answer key business questions.\n",
    "\n",
    "I worked with **historical marketing promotion data** to run both a **one-way ANOVA** and a **post hoc ANOVA test**. My goal was to leverage these statistical methods to develop and communicate robust, data-driven recommendations to stakeholders.\n",
    "\n",
    "The dataset contains records for various independent marketing promotions, utilizing channels like **TV, social media, radio, and different influencer tiers** to drive sales. While I've previously offered general insights on how promotion types affect sales, the current stakeholder request is more specific: they want to know if there's a **statistically significant difference in sales** specifically between the **various TV and influencer promotion types.**\n",
    "\n",
    "To address this, my analysis involves several key steps using a one-way ANOVA test:\n",
    "\n",
    "* I'll start by using **plots and descriptive statistics** to identify and select the most appropriate **categorical independent variable** for the analysis.\n",
    "\n",
    "* Next, I'll **create and fit a linear regression model** using that selected categorical variable.\n",
    "\n",
    "* Crucially, I will **check the model assumptions** to ensure the validity of my results.\n",
    "\n",
    "* Then, I will **perform and interpret the one-way ANOVA test** to determine overall significance.\n",
    "\n",
    "* To explore the specific group differences, I'll conduct an **ANOVA post hoc test** to compare pairs of groups.\n",
    "\n",
    "* Finally, I'll synthesize and interpret the model outputs, and **communicate these results clearly** to non-technical stakeholders."
   ]
  },
  {
   "cell_type": "markdown",
   "id": "1ac29d10",
   "metadata": {},
   "source": [
    "## **Step 1: Imports** \n",
    "\n",
    "Import pandas, pyplot from matplotlib, seaborn, api from statsmodels, ols from statsmodels.formula.api, and pairwise_tukeyhsd from statsmodels.stats.multicomp."
   ]
  },
  {
   "cell_type": "code",
   "execution_count": 1,
   "id": "90afb483",
   "metadata": {},
   "outputs": [],
   "source": [
    "# Import libraries and packages.\n",
    "\n",
    "import pandas as pd\n",
    "import matplotlib.pyplot as plt\n",
    "import seaborn as sns\n",
    "import statsmodels.api as sm\n",
    "from statsmodels.formula.api import ols\n",
    "from statsmodels.stats.multicomp import pairwise_tukeyhsd"
   ]
  },
  {
   "cell_type": "markdown",
   "id": "47bb623d",
   "metadata": {},
   "source": [
    "### Loading the Dataset\n",
    "\n",
    "My next step was to load the specific marketing data file. I read the ````marketing_sales_data.csv```` file into a DataFrame named ``df`` (I prefer to keep it concise!) and then quickly displayed the first five rows to confirm it loaded correctly and to check the structure of the data."
   ]
  },
  {
   "cell_type": "code",
   "execution_count": 2,
   "id": "8f2afa3c",
   "metadata": {},
   "outputs": [
    {
     "name": "stdout",
     "output_type": "stream",
     "text": [
      "First five rows of the dataset:\n",
      "       TV      Radio  Social Media Influencer       Sales\n",
      "0     Low   1.218354      1.270444      Micro   90.054222\n",
      "1  Medium  14.949791      0.274451      Macro  222.741668\n",
      "2     Low  10.377258      0.061984       Mega  102.774790\n",
      "3    High  26.469274      7.070945      Micro  328.239378\n",
      "4    High  36.876302      7.618605       Mega  351.807328\n"
     ]
    }
   ],
   "source": [
    "# Load the dataset into a DataFrame called df\n",
    "df = pd.read_csv(r'C:\\Users\\Edgar\\Documents\\Portfolio\\marketing_sales_data.csv')\n",
    "\n",
    "# Display the first five rows to verify the data loaded as expected\n",
    "print(\"First five rows of the dataset:\")\n",
    "print(df.head())"
   ]
  },
  {
   "cell_type": "markdown",
   "id": "85e5a638",
   "metadata": {},
   "source": [
    "### **Why EDA is Essential Before Modeling**\n",
    "Before I construct a **linear regression model**, I prioritize **Exploratory Data Analysis (EDA)**. This step is critical for ensuring the model's validity and selecting the right variables.\n",
    "\n",
    "My main goals for conducting EDA are:\n",
    "\n",
    "* **Understanding Features**: Confirming which variables are present and their data types.\n",
    "\n",
    "* **Checking Distributions**: Examining descriptive statistics (min, mean, max) to detect outliers or skewness.\n",
    "\n",
    "* **Visualizing Relationships**: Plotting the independent variables against Sales to quickly see which features have a linear relationship, making them strong candidates for the model.\n",
    "\n",
    "* **Data Cleaning**: Identifying and addressing incorrect or missing values, which is vital because poor data quality directly leads to unreliable model results.\n",
    "\n",
    "Essentially, EDA provides the essential foundation—clean data and informed variable selection—for building a robust and trustworthy model. 🚀"
   ]
  },
  {
   "cell_type": "markdown",
   "id": "019a06b4",
   "metadata": {},
   "source": [
    "### **Step 2: Data Exploration**\n",
    "My first step in the visual analysis was to see how ``Sales`` are distributed across the different ``TV`` **promotion budget categories (Low, Medium, High)**. A **boxplot** is perfect for this, as it clearly shows the median, quartiles, and any potential outliers for each group.\n",
    "\n",
    "**Visualizing Sales by TV Promotion Budget**\n",
    "I used the ``seaborn`` library to quickly generate a boxplot comparing ``TV`` and ``Sales``."
   ]
  },
  {
   "cell_type": "code",
   "execution_count": 3,
   "id": "675a61f3",
   "metadata": {},
   "outputs": [
    {
     "data": {
      "image/png": "[encoded data removed]",
      "text/plain": [
       "<Figure size 640x480 with 1 Axes>"
      ]
     },
     "metadata": {},
     "output_type": "display_data"
    }
   ],
   "source": [
    "# Create a boxplot to visually compare the distribution of Sales across the different TV promotion budget categories.\n",
    "sns.boxplot(x = \"TV\", y = \"Sales\", hue=\"TV\", data = df);"
   ]
  },
  {
   "cell_type": "markdown",
   "id": "86ca3921",
   "metadata": {},
   "source": [
    "**Observations from the Boxplot**\n",
    "After reviewing the plot, I noticed a clear trend:\n",
    "\n",
    "* There appears to be an **increase in the median sales** as the TV promotion budget moves from Low to Medium to High.\n",
    "\n",
    "* The spread (or variability) of sales also seems to be **highest for the High budget** category.\n",
    "\n",
    "* This visual evidence strongly suggests that **TV promotion budget** has an impact on sales, making it a good candidate for my ANOVA analysis."
   ]
  },
  {
   "cell_type": "markdown",
   "id": "8e67ddf5",
   "metadata": {},
   "source": [
    "### **Analyzing Sales Variation**\n",
    "Based on the previous boxplot, there is considerable variation in Sales across the different TV promotion budget groups. The size of these differences suggests that the TV budget is a key factor, and I can officially test the significance of these differences using a one-way ANOVA."
   ]
  },
  {
   "cell_type": "markdown",
   "id": "a5a7bf6d",
   "metadata": {},
   "source": [
    "**Visualizing Sales by Influencer Size**\n",
    "\n",
    "Next, I wanted to investigate the relationship between ``Sales`` and the ``Influencer`` **size category (Mega, Macro, Nano, Micro)**. I used another boxplot to see if different influencer tiers show distinct sales patterns."
   ]
  },
  {
   "cell_type": "code",
   "execution_count": 4,
   "id": "43985335",
   "metadata": {},
   "outputs": [
    {
     "data": {
      "image/png": "[encoded data removed]",
      "text/plain": [
       "<Figure size 640x480 with 1 Axes>"
      ]
     },
     "metadata": {},
     "output_type": "display_data"
    }
   ],
   "source": [
    "# Create a boxplot to compare the distribution of Sales across the different Influencer size categories.\n",
    "sns.boxplot(x = \"Influencer\", y = \"Sales\", hue=\"Influencer\", data = df);"
   ]
  },
  {
   "cell_type": "markdown",
   "id": "11871f4e",
   "metadata": {},
   "source": [
    "**Observations from the Influencer Boxplot**\n",
    "\n",
    "Looking at this plot, the results are quite different from the TV budget analysis:\n",
    "\n",
    "* Unlike the TV categories, the **median sales appear very similar** across all four influencer groups (Mega, Macro, Nano, and Micro).\n",
    "\n",
    "* The **overall spread** of sales also seems to be comparable between the groups.\n",
    "\n",
    "* Visually, there is **no obvious systematic variation** in sales driven by the influencer size category. This suggests that the ````TV```` variable might be a stronger predictor of sales than the ``Influencer`` variable."
   ]
  },
  {
   "cell_type": "markdown",
   "id": "6718e341",
   "metadata": {},
   "source": [
    "### **Addressing Variation and Data Cleaning**\n",
    "\n",
    "While there is **some visual variation** in ``Sales`` across the different ``Influencer`` groups, it isn't as distinct as the variation I saw with the ``TV`` categories. This visual observation suggests the difference in means might **not be statistically significant**, which is something the ANOVA test will confirm.\n",
    "\n",
    "---\n",
    "\n",
    "**Removing Missing Data**\n",
    "Before I can move forward with modeling, I needed to ensure the data was clean. I remember from a previous exploration that this dataset had a few rows with missing values. Since the total number of missing rows is small, the most effective and safe approach is to simply **drop any row containing a missing value** (``NaN``).\n",
    "\n",
    "I executed this cleaning step and updated my main DataFrame."
   ]
  },
  {
   "cell_type": "code",
   "execution_count": 5,
   "id": "f158dc1b",
   "metadata": {},
   "outputs": [
    {
     "name": "stdout",
     "output_type": "stream",
     "text": [
      "Confirming zero missing values after cleaning:\n",
      "TV              0\n",
      "Radio           0\n",
      "Social Media    0\n",
      "Influencer      0\n",
      "Sales           0\n",
      "dtype: int64\n"
     ]
    }
   ],
   "source": [
    "# Drop rows that contain any missing data and reassign the cleaned data back to the DataFrame.\n",
    "df = df.dropna(axis=0)\n",
    "\n",
    "# Confirming that the data now contains zero missing values across all columns.\n",
    "print(\"Confirming zero missing values after cleaning:\")\n",
    "print(df.isnull().sum(axis=0))"
   ]
  },
  {
   "cell_type": "markdown",
   "id": "2fc737c4",
   "metadata": {},
   "source": [
    "The output of the final check confirmed that all columns now have a count of zero missing values, meaning my data is ready for the next phase of the analysis!"
   ]
  },
  {
   "cell_type": "markdown",
   "id": "db88a727",
   "metadata": {},
   "source": [
    "### **Step 3: Model Building**\n",
    "Based on my initial exploratory data analysis (EDA), the ``TV`` **promotion budget** showed the strongest visual variation in mean sales. Therefore, I chose ``TV`` as the independent categorical variable to build my initial Ordinary Least Squares (OLS) linear regression model for predicting ``Sales``.\n",
    "\n",
    "I used the ``statsmodels.formula.api`` to easily define the formula and fit the model.\n",
    "\n",
    "**Defining and Fitting the OLS Model**"
   ]
  },
  {
   "cell_type": "code",
   "execution_count": 6,
   "id": "9e705792",
   "metadata": {},
   "outputs": [
    {
     "data": {
      "text/html": [
       "<table class=\"simpletable\">\n",
       "<caption>OLS Regression Results</caption>\n",
       "<tr>\n",
       "  <th>Dep. Variable:</th>          <td>Sales</td>      <th>  R-squared:         </th> <td>   0.874</td> \n",
       "</tr>\n",
       "<tr>\n",
       "  <th>Model:</th>                   <td>OLS</td>       <th>  Adj. R-squared:    </th> <td>   0.874</td> \n",
       "</tr>\n",
       "<tr>\n",
       "  <th>Method:</th>             <td>Least Squares</td>  <th>  F-statistic:       </th> <td>   1971.</td> \n",
       "</tr>\n",
       "<tr>\n",
       "  <th>Date:</th>             <td>Sun, 28 Sep 2025</td> <th>  Prob (F-statistic):</th> <td>8.81e-256</td>\n",
       "</tr>\n",
       "<tr>\n",
       "  <th>Time:</th>                 <td>17:52:16</td>     <th>  Log-Likelihood:    </th> <td> -2778.9</td> \n",
       "</tr>\n",
       "<tr>\n",
       "  <th>No. Observations:</th>      <td>   569</td>      <th>  AIC:               </th> <td>   5564.</td> \n",
       "</tr>\n",
       "<tr>\n",
       "  <th>Df Residuals:</th>          <td>   566</td>      <th>  BIC:               </th> <td>   5577.</td> \n",
       "</tr>\n",
       "<tr>\n",
       "  <th>Df Model:</th>              <td>     2</td>      <th>                     </th>     <td> </td>    \n",
       "</tr>\n",
       "<tr>\n",
       "  <th>Covariance Type:</th>      <td>nonrobust</td>    <th>                     </th>     <td> </td>    \n",
       "</tr>\n",
       "</table>\n",
       "<table class=\"simpletable\">\n",
       "<tr>\n",
       "         <td></td>            <th>coef</th>     <th>std err</th>      <th>t</th>      <th>P>|t|</th>  <th>[0.025</th>    <th>0.975]</th>  \n",
       "</tr>\n",
       "<tr>\n",
       "  <th>Intercept</th>       <td>  300.5296</td> <td>    2.417</td> <td>  124.360</td> <td> 0.000</td> <td>  295.783</td> <td>  305.276</td>\n",
       "</tr>\n",
       "<tr>\n",
       "  <th>C(TV)[T.Low]</th>    <td> -208.8133</td> <td>    3.329</td> <td>  -62.720</td> <td> 0.000</td> <td> -215.353</td> <td> -202.274</td>\n",
       "</tr>\n",
       "<tr>\n",
       "  <th>C(TV)[T.Medium]</th> <td> -101.5061</td> <td>    3.325</td> <td>  -30.526</td> <td> 0.000</td> <td> -108.038</td> <td>  -94.975</td>\n",
       "</tr>\n",
       "</table>\n",
       "<table class=\"simpletable\">\n",
       "<tr>\n",
       "  <th>Omnibus:</th>       <td>450.714</td> <th>  Durbin-Watson:     </th> <td>   2.002</td>\n",
       "</tr>\n",
       "<tr>\n",
       "  <th>Prob(Omnibus):</th> <td> 0.000</td>  <th>  Jarque-Bera (JB):  </th> <td>  35.763</td>\n",
       "</tr>\n",
       "<tr>\n",
       "  <th>Skew:</th>          <td>-0.044</td>  <th>  Prob(JB):          </th> <td>1.71e-08</td>\n",
       "</tr>\n",
       "<tr>\n",
       "  <th>Kurtosis:</th>      <td> 1.775</td>  <th>  Cond. No.          </th> <td>    3.86</td>\n",
       "</tr>\n",
       "</table><br/><br/>Notes:<br/>[1] Standard Errors assume that the covariance matrix of the errors is correctly specified."
      ],
      "text/latex": [
       "\\begin{center}\n",
       "\\begin{tabular}{lclc}\n",
       "\\toprule\n",
       "\\textbf{Dep. Variable:}    &      Sales       & \\textbf{  R-squared:         } &     0.874   \\\\\n",
       "\\textbf{Model:}            &       OLS        & \\textbf{  Adj. R-squared:    } &     0.874   \\\\\n",
       "\\textbf{Method:}           &  Least Squares   & \\textbf{  F-statistic:       } &     1971.   \\\\\n",
       "\\textbf{Date:}             & Sun, 28 Sep 2025 & \\textbf{  Prob (F-statistic):} & 8.81e-256   \\\\\n",
       "\\textbf{Time:}             &     17:52:16     & \\textbf{  Log-Likelihood:    } &   -2778.9   \\\\\n",
       "\\textbf{No. Observations:} &         569      & \\textbf{  AIC:               } &     5564.   \\\\\n",
       "\\textbf{Df Residuals:}     &         566      & \\textbf{  BIC:               } &     5577.   \\\\\n",
       "\\textbf{Df Model:}         &           2      & \\textbf{                     } &             \\\\\n",
       "\\textbf{Covariance Type:}  &    nonrobust     & \\textbf{                     } &             \\\\\n",
       "\\bottomrule\n",
       "\\end{tabular}\n",
       "\\begin{tabular}{lcccccc}\n",
       "                         & \\textbf{coef} & \\textbf{std err} & \\textbf{t} & \\textbf{P$> |$t$|$} & \\textbf{[0.025} & \\textbf{0.975]}  \\\\\n",
       "\\midrule\n",
       "\\textbf{Intercept}       &     300.5296  &        2.417     &   124.360  &         0.000        &      295.783    &      305.276     \\\\\n",
       "\\textbf{C(TV)[T.Low]}    &    -208.8133  &        3.329     &   -62.720  &         0.000        &     -215.353    &     -202.274     \\\\\n",
       "\\textbf{C(TV)[T.Medium]} &    -101.5061  &        3.325     &   -30.526  &         0.000        &     -108.038    &      -94.975     \\\\\n",
       "\\bottomrule\n",
       "\\end{tabular}\n",
       "\\begin{tabular}{lclc}\n",
       "\\textbf{Omnibus:}       & 450.714 & \\textbf{  Durbin-Watson:     } &    2.002  \\\\\n",
       "\\textbf{Prob(Omnibus):} &   0.000 & \\textbf{  Jarque-Bera (JB):  } &   35.763  \\\\\n",
       "\\textbf{Skew:}          &  -0.044 & \\textbf{  Prob(JB):          } & 1.71e-08  \\\\\n",
       "\\textbf{Kurtosis:}      &   1.775 & \\textbf{  Cond. No.          } &     3.86  \\\\\n",
       "\\bottomrule\n",
       "\\end{tabular}\n",
       "%\\caption{OLS Regression Results}\n",
       "\\end{center}\n",
       "\n",
       "Notes: \\newline\n",
       " [1] Standard Errors assume that the covariance matrix of the errors is correctly specified."
      ],
      "text/plain": [
       "<class 'statsmodels.iolib.summary.Summary'>\n",
       "\"\"\"\n",
       "                            OLS Regression Results                            \n",
       "==============================================================================\n",
       "Dep. Variable:                  Sales   R-squared:                       0.874\n",
       "Model:                            OLS   Adj. R-squared:                  0.874\n",
       "Method:                 Least Squares   F-statistic:                     1971.\n",
       "Date:                Sun, 28 Sep 2025   Prob (F-statistic):          8.81e-256\n",
       "Time:                        17:52:16   Log-Likelihood:                -2778.9\n",
       "No. Observations:                 569   AIC:                             5564.\n",
       "Df Residuals:                     566   BIC:                             5577.\n",
       "Df Model:                           2                                         \n",
       "Covariance Type:            nonrobust                                         \n",
       "===================================================================================\n",
       "                      coef    std err          t      P>|t|      [0.025      0.975]\n",
       "-----------------------------------------------------------------------------------\n",
       "Intercept         300.5296      2.417    124.360      0.000     295.783     305.276\n",
       "C(TV)[T.Low]     -208.8133      3.329    -62.720      0.000    -215.353    -202.274\n",
       "C(TV)[T.Medium]  -101.5061      3.325    -30.526      0.000    -108.038     -94.975\n",
       "==============================================================================\n",
       "Omnibus:                      450.714   Durbin-Watson:                   2.002\n",
       "Prob(Omnibus):                  0.000   Jarque-Bera (JB):               35.763\n",
       "Skew:                          -0.044   Prob(JB):                     1.71e-08\n",
       "Kurtosis:                       1.775   Cond. No.                         3.86\n",
       "==============================================================================\n",
       "\n",
       "Notes:\n",
       "[1] Standard Errors assume that the covariance matrix of the errors is correctly specified.\n",
       "\"\"\""
      ]
     },
     "execution_count": 6,
     "metadata": {},
     "output_type": "execute_result"
    }
   ],
   "source": [
    "# I'm defining the OLS formula here. I'm choosing 'TV' because the boxplot showed clear variation across its categories.\n",
    "# The 'C(TV)' notation tells the OLS model that 'TV' should be treated as a categorical variable.\n",
    "ols_formula = 'Sales ~ C(TV)'\n",
    "\n",
    "# Now, I'm creating the OLS model object using the defined formula and my cleaned data.\n",
    "OLS = ols(formula = ols_formula, data = df)\n",
    "\n",
    "# Next, I fit the model to the data to estimate the coefficients.\n",
    "model = OLS.fit()\n",
    "\n",
    "# I'm saving the full summary of the model results for later interpretation.\n",
    "model_results = model.summary()\n",
    "\n",
    "# Displaying the results to immediately check R-squared and coefficients.\n",
    "model_results"
   ]
  },
  {
   "cell_type": "markdown",
   "id": "f5d2264a",
   "metadata": {},
   "source": [
    "### **Variable Selection and Model Assumptions**\n",
    "\n",
    "#### **Selected Categorical Variable**\n",
    "\n",
    "I chose the ``TV`` promotion budget as the primary categorical variable for my model.\n",
    "\n",
    "* **Why** ``TV``? My preliminary **exploratory data analysis (EDA)**, specifically the boxplots, clearly showed a **strong relationship** between the different ``TV`` promotion budget categories (Low, Medium, High) and the average ``Sales``. There was a visible step-up in sales with each budget increase.\n",
    "\n",
    "* **Why not** ``Influencer``? The analysis of the ``Influencer`` variable, on the other hand, **did not show a strong, systematic relationship** to sales. Since the goal is a robust model, I prioritized the variable with the clearer predictive power.\n",
    "\n",
    "---\n",
    "\n",
    "**Checking Model Assumptions**\n",
    "\n",
    "Before interpreting the model results, I needed to ensure my OLS linear regression model meets the necessary assumptions.\n",
    "\n",
    "1. **Linearity Assumption**\n",
    "* Since my model only uses a **categorical independent variable** (``TV``), the traditional **linearity assumption is not strictly required**. The model is essentially comparing the means of the different groups.\n",
    "\n",
    "2. **Independent Observation Assumption**\n",
    "* This assumption requires that each data point (row) is independent of the others. Since each row represents a *separate, independent marketing promotion*, the **independence assumption is upheld**.\n",
    "\n",
    "3. **Normality Assumption**\n",
    "I used the model's **residuals** to check for normality. I expect the residuals (the differences between the actual and predicted sales) to be normally distributed around zero."
   ]
  },
  {
   "cell_type": "code",
   "execution_count": 7,
   "id": "3c5801e6",
   "metadata": {},
   "outputs": [
    {
     "data": {
      "image/png": "[encoded data removed]",
      "text/plain": [
       "<Figure size 800x400 with 2 Axes>"
      ]
     },
     "metadata": {},
     "output_type": "display_data"
    }
   ],
   "source": [
    "# First, I calculate the residuals (the difference between actual sales and predicted sales).\n",
    "residuals = model.resid\n",
    "\n",
    "# I'm setting up a figure with two side-by-side plots for a clear comparison.\n",
    "fig, axes = plt.subplots(1, 2, figsize = (8,4))\n",
    "\n",
    "# Creating a histogram of the residuals to visually check the distribution shape.\n",
    "sns.histplot(residuals, ax=axes[0])\n",
    "\n",
    "# Customizing the histogram for clarity.\n",
    "axes[0].set_xlabel(\"Residual Value\")\n",
    "axes[0].set_title(\"Histogram of Residuals\")\n",
    "\n",
    "# Creating a Normal Q-Q plot. This is the best way to check if residuals follow a normal distribution.\n",
    "# The 'line=\"s\"' argument adds a standardized line to compare against.\n",
    "sm.qqplot(residuals, line='s', ax = axes[1])\n",
    "\n",
    "# Customizing the Q-Q plot title.\n",
    "axes[1].set_title(\"Normal QQ Plot\")\n",
    "\n",
    "# Adjusting the layout to prevent titles and labels from overlapping.\n",
    "plt.tight_layout()\n",
    "\n",
    "# Displaying the final plots.\n",
    "plt.show()"
   ]
  },
  {
   "cell_type": "markdown",
   "id": "2d853db9",
   "metadata": {},
   "source": [
    "The **histogram** appears to be **roughly bell-shaped**, and the points on the **Q-Q plot mostly follow the straight line**. This indicates that the **normality assumption is reasonably upheld** for this model."
   ]
  },
  {
   "cell_type": "markdown",
   "id": "0a7f5be2",
   "metadata": {},
   "source": [
    "### **Checking Normality and Homoscedasticity**\n",
    "\n",
    "#### **The Normality Assumption: A Note of Caution**\n",
    "\n",
    "While the visual plots in the previous step suggested the residuals were close to normal, a closer look at the **Normal Q-Q Plot** revealed a slight 'S' shape. This shape, where the points drift off the red diagonal line, is a concern and suggests the **normality assumption may not be perfectly met** when using ``TV`` to predict ``Sales``.\n",
    "\n",
    "However, for the scope of this project, I will proceed with the **working assumption that the normality requirement is met** for the time being, understanding that this is a limitation to keep in mind for future, real-world analysis.\n",
    "\n",
    "---\n",
    "\n",
    "**4. Constant Variance (Homoscedasticity) Assumption**\n",
    "\n",
    "The final crucial assumption to check is constant variance (homoscedasticity). This requires that the spread of the residuals remains roughly the same across all predicted (fitted) values. I check this using a scatter plot of the Fitted Values versus the Residuals."
   ]
  },
  {
   "cell_type": "code",
   "execution_count": 8,
   "id": "38ca402e",
   "metadata": {},
   "outputs": [
    {
     "data": {
      "image/png": "[encoded data removed]",
      "text/plain": [
       "<Figure size 640x480 with 1 Axes>"
      ]
     },
     "metadata": {},
     "output_type": "display_data"
    }
   ],
   "source": [
    "# Creating a scatter plot to visually check for homoscedasticity.\n",
    "# I plot the model's fitted (predicted) values on the x-axis against the residuals on the y-axis.\n",
    "fig = sns.scatterplot(x = model.fittedvalues, y = model.resid)\n",
    "\n",
    "# Customizing the plot for clarity.\n",
    "fig.set_xlabel(\"Fitted Values\")\n",
    "fig.set_ylabel(\"Residuals\")\n",
    "fig.set_title(\"Fitted Values v. Residuals\")\n",
    "\n",
    "# Adding a horizontal line at y=0. The residuals should be randomly scattered above and below this line.\n",
    "fig.axhline(0)\n",
    "\n",
    "# Displaying the plot.\n",
    "plt.show()"
   ]
  },
  {
   "cell_type": "markdown",
   "id": "de28ecaa",
   "metadata": {},
   "source": [
    "**Observations from the Homoscedasticity Plot**\n",
    "\n",
    "After reviewing the plot, I found:\n",
    "\n",
    "* The residuals appear to be **randomly scattered** around the zero line.\n",
    "\n",
    "* Crucially, the **spread (or variance)** of the residuals looks consistent as the fitted values increase. There is no clear fanning-out or funneling pattern.\n",
    "\n",
    "Based on this visual check, the constant variance (homoscedasticity) assumption is met for my model. With all assumptions addressed, I can now confidently move on to running the one-way ANOVA test."
   ]
  },
  {
   "cell_type": "markdown",
   "id": "db30d1e7",
   "metadata": {},
   "source": [
    "### **Step 4: Results and Evaluation**\n",
    "\n",
    "Now that I've built the OLS model and verified its assumptions (or acknowledged the minor limitation in normality), it's time to examine the full statistical output. The summary provides all the information needed to perform the one-way ANOVA test, as the F-statistic and p-value are contained within this output.\n",
    "\n",
    "**Displaying the OLS Model Summary**\n",
    "\n",
    "I'm displaying the detailed results from the model I fitted in Step 3."
   ]
  },
  {
   "cell_type": "code",
   "execution_count": 9,
   "id": "a146f641",
   "metadata": {},
   "outputs": [
    {
     "data": {
      "text/html": [
       "<table class=\"simpletable\">\n",
       "<caption>OLS Regression Results</caption>\n",
       "<tr>\n",
       "  <th>Dep. Variable:</th>          <td>Sales</td>      <th>  R-squared:         </th> <td>   0.874</td> \n",
       "</tr>\n",
       "<tr>\n",
       "  <th>Model:</th>                   <td>OLS</td>       <th>  Adj. R-squared:    </th> <td>   0.874</td> \n",
       "</tr>\n",
       "<tr>\n",
       "  <th>Method:</th>             <td>Least Squares</td>  <th>  F-statistic:       </th> <td>   1971.</td> \n",
       "</tr>\n",
       "<tr>\n",
       "  <th>Date:</th>             <td>Sun, 28 Sep 2025</td> <th>  Prob (F-statistic):</th> <td>8.81e-256</td>\n",
       "</tr>\n",
       "<tr>\n",
       "  <th>Time:</th>                 <td>17:52:16</td>     <th>  Log-Likelihood:    </th> <td> -2778.9</td> \n",
       "</tr>\n",
       "<tr>\n",
       "  <th>No. Observations:</th>      <td>   569</td>      <th>  AIC:               </th> <td>   5564.</td> \n",
       "</tr>\n",
       "<tr>\n",
       "  <th>Df Residuals:</th>          <td>   566</td>      <th>  BIC:               </th> <td>   5577.</td> \n",
       "</tr>\n",
       "<tr>\n",
       "  <th>Df Model:</th>              <td>     2</td>      <th>                     </th>     <td> </td>    \n",
       "</tr>\n",
       "<tr>\n",
       "  <th>Covariance Type:</th>      <td>nonrobust</td>    <th>                     </th>     <td> </td>    \n",
       "</tr>\n",
       "</table>\n",
       "<table class=\"simpletable\">\n",
       "<tr>\n",
       "         <td></td>            <th>coef</th>     <th>std err</th>      <th>t</th>      <th>P>|t|</th>  <th>[0.025</th>    <th>0.975]</th>  \n",
       "</tr>\n",
       "<tr>\n",
       "  <th>Intercept</th>       <td>  300.5296</td> <td>    2.417</td> <td>  124.360</td> <td> 0.000</td> <td>  295.783</td> <td>  305.276</td>\n",
       "</tr>\n",
       "<tr>\n",
       "  <th>C(TV)[T.Low]</th>    <td> -208.8133</td> <td>    3.329</td> <td>  -62.720</td> <td> 0.000</td> <td> -215.353</td> <td> -202.274</td>\n",
       "</tr>\n",
       "<tr>\n",
       "  <th>C(TV)[T.Medium]</th> <td> -101.5061</td> <td>    3.325</td> <td>  -30.526</td> <td> 0.000</td> <td> -108.038</td> <td>  -94.975</td>\n",
       "</tr>\n",
       "</table>\n",
       "<table class=\"simpletable\">\n",
       "<tr>\n",
       "  <th>Omnibus:</th>       <td>450.714</td> <th>  Durbin-Watson:     </th> <td>   2.002</td>\n",
       "</tr>\n",
       "<tr>\n",
       "  <th>Prob(Omnibus):</th> <td> 0.000</td>  <th>  Jarque-Bera (JB):  </th> <td>  35.763</td>\n",
       "</tr>\n",
       "<tr>\n",
       "  <th>Skew:</th>          <td>-0.044</td>  <th>  Prob(JB):          </th> <td>1.71e-08</td>\n",
       "</tr>\n",
       "<tr>\n",
       "  <th>Kurtosis:</th>      <td> 1.775</td>  <th>  Cond. No.          </th> <td>    3.86</td>\n",
       "</tr>\n",
       "</table><br/><br/>Notes:<br/>[1] Standard Errors assume that the covariance matrix of the errors is correctly specified."
      ],
      "text/latex": [
       "\\begin{center}\n",
       "\\begin{tabular}{lclc}\n",
       "\\toprule\n",
       "\\textbf{Dep. Variable:}    &      Sales       & \\textbf{  R-squared:         } &     0.874   \\\\\n",
       "\\textbf{Model:}            &       OLS        & \\textbf{  Adj. R-squared:    } &     0.874   \\\\\n",
       "\\textbf{Method:}           &  Least Squares   & \\textbf{  F-statistic:       } &     1971.   \\\\\n",
       "\\textbf{Date:}             & Sun, 28 Sep 2025 & \\textbf{  Prob (F-statistic):} & 8.81e-256   \\\\\n",
       "\\textbf{Time:}             &     17:52:16     & \\textbf{  Log-Likelihood:    } &   -2778.9   \\\\\n",
       "\\textbf{No. Observations:} &         569      & \\textbf{  AIC:               } &     5564.   \\\\\n",
       "\\textbf{Df Residuals:}     &         566      & \\textbf{  BIC:               } &     5577.   \\\\\n",
       "\\textbf{Df Model:}         &           2      & \\textbf{                     } &             \\\\\n",
       "\\textbf{Covariance Type:}  &    nonrobust     & \\textbf{                     } &             \\\\\n",
       "\\bottomrule\n",
       "\\end{tabular}\n",
       "\\begin{tabular}{lcccccc}\n",
       "                         & \\textbf{coef} & \\textbf{std err} & \\textbf{t} & \\textbf{P$> |$t$|$} & \\textbf{[0.025} & \\textbf{0.975]}  \\\\\n",
       "\\midrule\n",
       "\\textbf{Intercept}       &     300.5296  &        2.417     &   124.360  &         0.000        &      295.783    &      305.276     \\\\\n",
       "\\textbf{C(TV)[T.Low]}    &    -208.8133  &        3.329     &   -62.720  &         0.000        &     -215.353    &     -202.274     \\\\\n",
       "\\textbf{C(TV)[T.Medium]} &    -101.5061  &        3.325     &   -30.526  &         0.000        &     -108.038    &      -94.975     \\\\\n",
       "\\bottomrule\n",
       "\\end{tabular}\n",
       "\\begin{tabular}{lclc}\n",
       "\\textbf{Omnibus:}       & 450.714 & \\textbf{  Durbin-Watson:     } &    2.002  \\\\\n",
       "\\textbf{Prob(Omnibus):} &   0.000 & \\textbf{  Jarque-Bera (JB):  } &   35.763  \\\\\n",
       "\\textbf{Skew:}          &  -0.044 & \\textbf{  Prob(JB):          } & 1.71e-08  \\\\\n",
       "\\textbf{Kurtosis:}      &   1.775 & \\textbf{  Cond. No.          } &     3.86  \\\\\n",
       "\\bottomrule\n",
       "\\end{tabular}\n",
       "%\\caption{OLS Regression Results}\n",
       "\\end{center}\n",
       "\n",
       "Notes: \\newline\n",
       " [1] Standard Errors assume that the covariance matrix of the errors is correctly specified."
      ],
      "text/plain": [
       "<class 'statsmodels.iolib.summary.Summary'>\n",
       "\"\"\"\n",
       "                            OLS Regression Results                            \n",
       "==============================================================================\n",
       "Dep. Variable:                  Sales   R-squared:                       0.874\n",
       "Model:                            OLS   Adj. R-squared:                  0.874\n",
       "Method:                 Least Squares   F-statistic:                     1971.\n",
       "Date:                Sun, 28 Sep 2025   Prob (F-statistic):          8.81e-256\n",
       "Time:                        17:52:16   Log-Likelihood:                -2778.9\n",
       "No. Observations:                 569   AIC:                             5564.\n",
       "Df Residuals:                     566   BIC:                             5577.\n",
       "Df Model:                           2                                         \n",
       "Covariance Type:            nonrobust                                         \n",
       "===================================================================================\n",
       "                      coef    std err          t      P>|t|      [0.025      0.975]\n",
       "-----------------------------------------------------------------------------------\n",
       "Intercept         300.5296      2.417    124.360      0.000     295.783     305.276\n",
       "C(TV)[T.Low]     -208.8133      3.329    -62.720      0.000    -215.353    -202.274\n",
       "C(TV)[T.Medium]  -101.5061      3.325    -30.526      0.000    -108.038     -94.975\n",
       "==============================================================================\n",
       "Omnibus:                      450.714   Durbin-Watson:                   2.002\n",
       "Prob(Omnibus):                  0.000   Jarque-Bera (JB):               35.763\n",
       "Skew:                          -0.044   Prob(JB):                     1.71e-08\n",
       "Kurtosis:                       1.775   Cond. No.                         3.86\n",
       "==============================================================================\n",
       "\n",
       "Notes:\n",
       "[1] Standard Errors assume that the covariance matrix of the errors is correctly specified.\n",
       "\"\"\""
      ]
     },
     "execution_count": 9,
     "metadata": {},
     "output_type": "execute_result"
    }
   ],
   "source": [
    "# Displaying the full OLS model summary to check the F-statistic and coefficients.\n",
    "model_results"
   ]
  },
  {
   "cell_type": "markdown",
   "id": "e7153089",
   "metadata": {},
   "source": [
    "**Preliminary Interpretation**\n",
    "\n",
    "The **F-statistic** and its corresponding **P-value (Prob (F-statistic))** in the ANOVA table (which is part of this summary) are the key pieces of information I need.\n",
    "\n",
    "* **F-statistic:** This value tests the null hypothesis that the means of all ``TV`` budget groups are equal. A large F-statistic suggests I should reject this null hypothesis.\n",
    "\n",
    "* **Prob (F-statistic)**: This is the p-value. If this value is below my significance level (typically α=0.05), I can conclude that there is a **statistically significant difference** in sales means among the ``TV`` budget categories.\n",
    "\n",
    "I will also look at the **coefficients** for ``C(TV)[T.Low]``, ``C(TV)[T.Medium]``, and ``C(TV)[T.High]`` to understand how each group compares to the baseline group (which is automatically set by ``statsmodels``, usually the alphabetically first category unless specified). This helps me understand the magnitude of the sales difference."
   ]
  },
  {
   "cell_type": "markdown",
   "id": "3a1d11fc",
   "metadata": {},
   "source": [
    "## **Interpreting the Model and Looking Ahead**\n",
    "\n",
    "**Model R2 Interpretation**\n",
    "\n",
    "My linear regression model, using ``TV`` as the independent variable, resulted in an R2 value of 0.874. This is an excellent fit! It means the model successfully explains 87.4% of the **total variation in** ``Sales``. This high R2 confirms that the ``TV`` promotion budget is a **highly effective predictor of ``Sales``**, giving me confidence in this variable choice.\n",
    "\n",
    "**Coefficient Estimate Interpretation and Significance**\n",
    "To understand the specifics, I looked at the coefficient estimates:\n",
    "\n",
    "* **Baseline Category**: The model automatically chose the ``High`` ``TV`` promotion budget as the baseline category (the one represented by the intercept). The coefficients for the other groups are interpreted relative to this ``High`` budget baseline.\n",
    "\n",
    "* **Sales Differences**: The negative coefficients for ``Medium`` and ``Low`` categories indicate that sales are, on average, lower for these promotions compared to the ``High`` category. For instance, the model predicts that a ``Low`` ``TV`` promotion results in $208.813 **million less in sales** on average than a ``High`` TV promotion.\n",
    "\n",
    "* **Statistical Significance**: Crucially, the **p-value for all coefficients is 0.000**. Since this is well below my standard significance level of α=0.05, I can conclude that **all coefficients are statistically significant**. This confirms the differences in sales among the groups are not due to random chance.\n",
    "\n",
    "* **Confidence Intervals**: When reporting these results to stakeholders, it's vital to include the confidence intervals. For example, the 95% confidence interval for the β \n",
    "TV_Low\n",
    "​\n",
    "  coefficient is **[−215.353,−202.274]**. This means I am 95% confident that the true difference in average sales between a ``Low`` promotion and a ``High`` promotion lies within this range.\n",
    "\n",
    "#### **Model Improvement Considerations**\n",
    "\n",
    "While the current model is quite accurate, I believe it could still be improved:\n",
    "\n",
    "1. **Granularity of ``TV`` Promotions**: Given the strong predictive power of the ``TV`` variable, future models could benefit from a more granular view. This might involve using the **actual continuous ``TV`` promotion budgets** instead of just three discrete categories, or perhaps introducing additional budget categories.\n",
    "\n",
    "2. **Adding External Variables**: The model's accuracy could be further boosted by incorporating additional variables that influence sales, such as the **location of the marketing campaign or the time of year** the promotion ran.\n",
    "\n",
    "--\n",
    "\n",
    "### **Step 5: Performing the One-Way ANOVA Test**\n",
    "\n",
    "With the OLS model successfully fit, the final step is to formally run a **one-way ANOVA test**. Although the F-statistic is already in the OLS summary, running the formal ANOVA table is standard practice to confirm the overall result: determining whether there is a statistically significant difference in ``Sales`` among any of the ``TV`` groups.\n",
    "\n",
    "#### **Generating the ANOVA Table**\n",
    "\n",
    "I use the ``sm.stats.anova_lm`` function with ``typ=2`` to generate the ANOVA table for my fitted OLS model."
   ]
  },
  {
   "cell_type": "code",
   "execution_count": 10,
   "id": "6c50f063",
   "metadata": {},
   "outputs": [
    {
     "data": {
      "text/html": [
       "<div>\n",
       "<style scoped>\n",
       "    .dataframe tbody tr th:only-of-type {\n",
       "        vertical-align: middle;\n",
       "    }\n",
       "\n",
       "    .dataframe tbody tr th {\n",
       "        vertical-align: top;\n",
       "    }\n",
       "\n",
       "    .dataframe thead th {\n",
       "        text-align: right;\n",
       "    }\n",
       "</style>\n",
       "<table border=\"1\" class=\"dataframe\">\n",
       "  <thead>\n",
       "    <tr style=\"text-align: right;\">\n",
       "      <th></th>\n",
       "      <th>sum_sq</th>\n",
       "      <th>df</th>\n",
       "      <th>F</th>\n",
       "      <th>PR(&gt;F)</th>\n",
       "    </tr>\n",
       "  </thead>\n",
       "  <tbody>\n",
       "    <tr>\n",
       "      <th>C(TV)</th>\n",
       "      <td>4.052692e+06</td>\n",
       "      <td>2.0</td>\n",
       "      <td>1971.455737</td>\n",
       "      <td>8.805550e-256</td>\n",
       "    </tr>\n",
       "    <tr>\n",
       "      <th>Residual</th>\n",
       "      <td>5.817589e+05</td>\n",
       "      <td>566.0</td>\n",
       "      <td>NaN</td>\n",
       "      <td>NaN</td>\n",
       "    </tr>\n",
       "  </tbody>\n",
       "</table>\n",
       "</div>"
      ],
      "text/plain": [
       "                sum_sq     df            F         PR(>F)\n",
       "C(TV)     4.052692e+06    2.0  1971.455737  8.805550e-256\n",
       "Residual  5.817589e+05  566.0          NaN            NaN"
      ]
     },
     "execution_count": 10,
     "metadata": {},
     "output_type": "execute_result"
    }
   ],
   "source": [
    "# Generating the formal one-way ANOVA table for the fitted OLS model.\n",
    "# I use typ=2 to ensure a balanced calculation, which is suitable for this dataset.\n",
    "sm.stats.anova_lm(model, typ=2)"
   ]
  },
  {
   "cell_type": "markdown",
   "id": "20d424dc",
   "metadata": {},
   "source": [
    "The resulting ANOVA table will provide the definitive F-statistic and P-value, confirming my previous interpretation from the OLS summary."
   ]
  },
  {
   "cell_type": "markdown",
   "id": "33d4e6d5",
   "metadata": {},
   "source": [
    "### **Interpreting the ANOVA Results**\n",
    "\n",
    "#### **ANOVA Hypotheses**\n",
    "\n",
    "For the one-way ANOVA test, my goal was to see if the means of the ``Sales`` groups defined by the ``TV`` promotion budget are statistically different. I established the following hypotheses:\n",
    "\n",
    "* Null Hypothesis (H0): There is **no difference** in mean ``Sales`` across all ``TV`` promotion budget categories (Low, Medium, and High).\n",
    "\n",
    "                                μLow=μMedium=μHigh\n",
    "​\n",
    "* **Alternative Hypothesis (HA)**: There is a **statistically significant difference** in mean ``Sales`` for at least one pair of ``TV``promotion budget categories.\n",
    "\n",
    "                                Not all μ are equal\n",
    "\n",
    "#### **Conclusion from the One-Way ANOVA Test**\n",
    "\n",
    "My ANOVA test yielded a massive **F-test statistic of** 1971.46 and a **p-value** of 8.81×10−256(which is essentially zero).\n",
    "\n",
    "* Since the **p-value (≪0.05) is far less than my significance level (α=0.05)**, I have overwhelming evidence to **reject the null hypothesis (H0) in favor of the alternative hypothesis (HA).**\n",
    "\n",
    "* **The ANOVA test tells me there is a statistically significant difference in ``Sales`` among the TV groups**. The TV promotion budget does have a significant effect on average sales.\n",
    "\n",
    "--\n",
    "\n",
    "### **Step 6: Performing the ANOVA Post Hoc Test**\n",
    "\n",
    "The ANOVA test only tells me that at least one pair of means is different; it doesn't specify which pairs. Because my ANOVA results were statistically significant, I need to apply a **post hoc test** to perform pairwise comparisons.\n",
    "\n",
    "I chose **Tukey's Honestly Significant Difference (HSD) test** because it is designed to control the family-wise error rate across multiple comparisons. This test will compare every pair of ``TV`` categories (Low vs. Medium, Low vs. High, Medium vs. High) to see exactly where the significant differences lie.\n",
    "\n",
    "**Running the Tukey's HSD Test**\n",
    "\n",
    "I used the ``pairwise_tukeyhsd`` function, providing ``Sales`` as the dependent variable and ``TV`` as the grouping variable."
   ]
  },
  {
   "cell_type": "code",
   "execution_count": 11,
   "id": "f71744eb",
   "metadata": {},
   "outputs": [
    {
     "data": {
      "text/html": [
       "<table class=\"simpletable\">\n",
       "<caption>Multiple Comparison of Means - Tukey HSD, FWER=0.05</caption>\n",
       "<tr>\n",
       "  <th>group1</th> <th>group2</th> <th>meandiff</th>  <th>p-adj</th>   <th>lower</th>     <th>upper</th>   <th>reject</th>\n",
       "</tr>\n",
       "<tr>\n",
       "   <td>High</td>    <td>Low</td>  <td>-208.8133</td>  <td>0.0</td>  <td>-216.6367</td> <td>-200.9898</td>  <td>True</td> \n",
       "</tr>\n",
       "<tr>\n",
       "   <td>High</td>  <td>Medium</td> <td>-101.5061</td>  <td>0.0</td>  <td>-109.3202</td> <td>-93.6921</td>   <td>True</td> \n",
       "</tr>\n",
       "<tr>\n",
       "    <td>Low</td>  <td>Medium</td> <td>107.3072</td>   <td>0.0</td>   <td>99.7066</td>  <td>114.9077</td>   <td>True</td> \n",
       "</tr>\n",
       "</table>"
      ],
      "text/latex": [
       "\\begin{center}\n",
       "\\begin{tabular}{ccccccc}\n",
       "\\toprule\n",
       "\\textbf{group1} & \\textbf{group2} & \\textbf{meandiff} & \\textbf{p-adj} & \\textbf{lower} & \\textbf{upper} & \\textbf{reject}  \\\\\n",
       "\\midrule\n",
       "      High      &       Low       &     -208.8133     &      0.0       &   -216.6367    &   -200.9898    &       True       \\\\\n",
       "      High      &      Medium     &     -101.5061     &      0.0       &   -109.3202    &    -93.6921    &       True       \\\\\n",
       "      Low       &      Medium     &      107.3072     &      0.0       &    99.7066     &    114.9077    &       True       \\\\\n",
       "\\bottomrule\n",
       "\\end{tabular}\n",
       "%\\caption{Multiple Comparison of Means - Tukey HSD, FWER=0.05}\n",
       "\\end{center}"
      ],
      "text/plain": [
       "<class 'statsmodels.iolib.table.SimpleTable'>"
      ]
     },
     "execution_count": 11,
     "metadata": {},
     "output_type": "execute_result"
    }
   ],
   "source": [
    "# Importing the required function for the Tukey's HSD post hoc test.\n",
    "from statsmodels.stats.multicomp import pairwise_tukeyhsd\n",
    "\n",
    "# Running the Tukey's HSD test to compare all pairs of the TV categories against each other.\n",
    "tukey_oneway = pairwise_tukeyhsd(endog = df[\"Sales\"], groups = df[\"TV\"])\n",
    "\n",
    "# Displaying the results summary, which shows the mean difference and whether it's significant.\n",
    "tukey_oneway.summary()"
   ]
  },
  {
   "cell_type": "markdown",
   "id": "383a4518",
   "metadata": {},
   "source": [
    "The summary table from this test will be the final piece of evidence I use to form my recommendations."
   ]
  },
  {
   "cell_type": "markdown",
   "id": "26ee31d3",
   "metadata": {},
   "source": [
    "### **Executive Summary for Stakeholders 🚀**\n",
    "\n",
    "My analysis confirms that the ``TV`` **promotion budget is the single most important driver of sales** in this dataset.\n",
    "\n",
    "* **Model Performance**: The OLS model predicting sales from the ``TV`` budget is highly accurate (R2=0.871).\n",
    "\n",
    "* **Key Finding**: There is a **statistically significant difference in average sales across all three TV promotion budget levels (Low, Medium, and High)**. Increasing the budget at any level leads to a demonstrable, measurable increase in average sales.\n",
    "\n",
    "**Estimated Sales Differences (Tukey's HSD):**\n",
    "\n",
    "| Comparison | Estimated Mean Sales Difference | 95% Confidence Interval |\n",
    "| :--- | :--- | :--- |\n",
    "| **High** vs. **Low** | **$208.81$ million** | $[\\$200.99, \\$216.64]$ million |\n",
    "| **High** vs. **Medium** | **$101.51$ million** | $[\\$93.69, \\$109.32]$ million |\n",
    "| **Medium** vs. **Low** | **$107.31$ million** | $[\\$99.71, \\$114.91]$ million |\n",
    "\n",
    "**Recommendation:** The data strongly supports **prioritizing and investing in higher TV promotion budgets** to achieve maximal sales impact, as each step-up in budget level provides a statistically confirmed increase in average sales."
   ]
  }
 ],
 "metadata": {
  "kernelspec": {
   "display_name": "Python 3",
   "language": "python",
   "name": "python3"
  },
  "language_info": {
   "codemirror_mode": {
    "name": "ipython",
    "version": 3
   },
   "file_extension": ".py",
   "mimetype": "text/x-python",
   "name": "python",
   "nbconvert_exporter": "python",
   "pygments_lexer": "ipython3",
   "version": "3.13.3"
  }
 },
 "nbformat": 4,
 "nbformat_minor": 5
}
